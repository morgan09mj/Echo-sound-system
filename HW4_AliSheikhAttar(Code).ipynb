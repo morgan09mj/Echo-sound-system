{
  "nbformat": 4,
  "nbformat_minor": 0,
  "metadata": {
    "colab": {
      "name": "Untitled6.ipynb",
      "provenance": [],
      "collapsed_sections": []
    },
    "kernelspec": {
      "name": "python3",
      "display_name": "Python 3"
    },
    "language_info": {
      "name": "python"
    }
  },
  "cells": [
    {
      "cell_type": "code",
      "execution_count": 24,
      "metadata": {
        "id": "No4sRySYxdxt"
      },
      "outputs": [],
      "source": [
        "import sys, wave\n",
        "import numpy as np\n",
        "from numpy import array, int16\n",
        "from scipy.signal import lfilter, butter\n",
        "from scipy.io.wavfile import read,write\n",
        "from scipy import signal\n"
      ]
    },
    {
      "cell_type": "code",
      "source": [
        "sample_frequency, audio = read(\"input.wav\")"
      ],
      "metadata": {
        "id": "HEgiQkrk0ymu"
      },
      "execution_count": 25,
      "outputs": []
    },
    {
      "cell_type": "code",
      "source": [
        "def set_echo(audio,sample_frequency, delay):\n",
        "  output_audio = np.zeros(len(audio))\n",
        "  output_delay = delay * sample_frequency\n",
        "\n",
        "  for count, e in enumerate(audio):\n",
        "    output_audio[count] = e + audio[count - int(output_delay)]\n",
        "\n",
        "  return output_audio"
      ],
      "metadata": {
        "id": "CrDekSPj1L7J"
      },
      "execution_count": 26,
      "outputs": []
    },
    {
      "cell_type": "code",
      "source": [
        "output_audio = set_echo(audio,sample_frequency,0.09)\n",
        "write(\"output.wav\", sample_frequency, array(output_audio, dtype = int16))"
      ],
      "metadata": {
        "id": "j34bDWqQ164L"
      },
      "execution_count": 27,
      "outputs": []
    }
  ]
}